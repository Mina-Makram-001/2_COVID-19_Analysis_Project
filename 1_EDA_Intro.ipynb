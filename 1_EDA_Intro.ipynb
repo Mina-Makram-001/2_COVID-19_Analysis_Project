{
 "cells": [
  {
   "cell_type": "markdown",
   "id": "f119f826",
   "metadata": {},
   "source": [
    "# Exploratory Data Analysis & Intro\n",
    "\n",
    "## Goal\n",
    "1.  Investigate top-paying roles and skills in the data science industry.\n",
    "2.  Use Python to explore a real-live dataset on job postings.\n",
    "3.  For job-seekers: use these insights to help find the best job opportunities.\n",
    "\n",
    "## Final Deliverables:\n",
    "* Create Jupyter Notebooks (showcasing core skills in Python).\n",
    "* Create a summary page (via `README.md`) capturing your findings.\n",
    "* Share this project with GitHub & LinkedIn.\n",
    "\n",
    "# Questions to Answer\n",
    "\n",
    "1. **Volatility in Daily Cases** – Measure which country had the highest variability in daily new cases.\n",
    "\n",
    "2. **Peak Timing** – Determine when the top 5 countries by total cases reached their peak of daily new cases and how long it took from their first case.\n",
    "\n",
    "3. **Outlier Detection** – Detect countries that were outliers in death-to-case ratio compared to the global average.\n",
    "\n",
    "4. **Recovery vs. Mortality** – Explore the relationship between recovery rates and death rates for the top 10 countries.\n",
    "\n",
    "5. **Case Fatality Dynamics** – Track how the case fatality rate evolved over time for the top 3 countries.\n",
    "\n",
    "6. **Growth Analysis** – Identify which countries had the fastest growth in confirmed cases during the first 30 days after their first reported case.\n",
    "\n",
    "7. **Comparing First Waves** – Compare how quickly different countries moved from 100 to 10,000 confirmed cases.\n",
    "\n",
    "8. **Lag Analysis** – Investigate the average time lag between the peaks of confirmed cases and deaths across countries.\n",
    "\n",
    "9. **Time to Plateau** – Find out which countries flattened the curve earliest based on moving averages of new cases.\n",
    "\n",
    "10. **Continental Trends** – Analyze which continent drove the second wave of the pandemic and compare it with the first wave.\n",
    "\n"
   ]
  },
  {
   "cell_type": "code",
   "execution_count": 1,
   "id": "71896af7",
   "metadata": {},
   "outputs": [],
   "source": [
    "import ast \n",
    "import numpy as np\n",
    "import pandas as pd\n",
    "import matplotlib.pyplot as plt\n",
    "import seaborn as sns\n",
    "import matplotlib.ticker as mtick\n",
    "\n",
    "\n",
    "# Set the path to the file you'd like to load\n",
    "file_path = 'M:/3_datasets/covid_19_data.csv'\n",
    "\n",
    "# Load the latest version\n",
    "df = pd.read_csv(file_path)\n",
    "\n",
    "#clean\n",
    "df['ObservationDate']= pd.to_datetime(df['ObservationDate'])\n",
    "\n",
    "df.columns = df.columns.str.replace(' ', '_')\n",
    "df['Last_Update'] = pd.to_datetime(df['Last_Update'], format='mixed') \n",
    "# df['Last_Update'] = pd.to_datetime(df['Last_Update'], format='%m/%d/%y %H:%M', errors='coerce')\n",
    "# we can also use that format but we cant bec our data include more than one time format for instance (1/22/2020 17:00, 2021-05-30)\n",
    "# so mixed sayes that me have more than one format\n",
    "\n",
    "df.set_index('SNo', inplace=True)\n",
    "\n",
    "df['Country/Region']= df['Country/Region'].fillna('else')\n",
    "df['Province/State']= df['Province/State'].fillna('else')\n",
    "\n",
    "df[['Confirmed','Deaths','Recovered']] = df[['Confirmed','Deaths','Recovered']].clip(lower=0) # replace -ve values with 0\n",
    "\n"
   ]
  },
  {
   "cell_type": "markdown",
   "id": "100ac894",
   "metadata": {},
   "source": [
    "### Cleaning and Some info about our data we are going to work with"
   ]
  },
  {
   "cell_type": "code",
   "execution_count": 2,
   "id": "6ca19bd5",
   "metadata": {},
   "outputs": [],
   "source": [
    "pd.set_option('display.max_columns', None)"
   ]
  },
  {
   "cell_type": "code",
   "execution_count": 3,
   "id": "ee62511a",
   "metadata": {},
   "outputs": [
    {
     "name": "stdout",
     "output_type": "stream",
     "text": [
      "<class 'pandas.core.frame.DataFrame'>\n",
      "Index: 306429 entries, 1 to 306429\n",
      "Data columns (total 7 columns):\n",
      " #   Column           Non-Null Count   Dtype         \n",
      "---  ------           --------------   -----         \n",
      " 0   ObservationDate  306429 non-null  datetime64[ns]\n",
      " 1   Province/State   306429 non-null  object        \n",
      " 2   Country/Region   306429 non-null  object        \n",
      " 3   Last_Update      306429 non-null  datetime64[ns]\n",
      " 4   Confirmed        306429 non-null  float64       \n",
      " 5   Deaths           306429 non-null  float64       \n",
      " 6   Recovered        306429 non-null  float64       \n",
      "dtypes: datetime64[ns](2), float64(3), object(2)\n",
      "memory usage: 18.7+ MB\n"
     ]
    }
   ],
   "source": [
    "df.info()\n"
   ]
  },
  {
   "cell_type": "code",
   "execution_count": 4,
   "id": "b3a1021b",
   "metadata": {},
   "outputs": [
    {
     "data": {
      "text/html": [
       "<div>\n",
       "<style scoped>\n",
       "    .dataframe tbody tr th:only-of-type {\n",
       "        vertical-align: middle;\n",
       "    }\n",
       "\n",
       "    .dataframe tbody tr th {\n",
       "        vertical-align: top;\n",
       "    }\n",
       "\n",
       "    .dataframe thead th {\n",
       "        text-align: right;\n",
       "    }\n",
       "</style>\n",
       "<table border=\"1\" class=\"dataframe\">\n",
       "  <thead>\n",
       "    <tr style=\"text-align: right;\">\n",
       "      <th></th>\n",
       "      <th>ObservationDate</th>\n",
       "      <th>Last_Update</th>\n",
       "      <th>Confirmed</th>\n",
       "      <th>Deaths</th>\n",
       "      <th>Recovered</th>\n",
       "    </tr>\n",
       "  </thead>\n",
       "  <tbody>\n",
       "    <tr>\n",
       "      <th>count</th>\n",
       "      <td>306429</td>\n",
       "      <td>306429</td>\n",
       "      <td>3.064290e+05</td>\n",
       "      <td>306429.000000</td>\n",
       "      <td>3.064290e+05</td>\n",
       "    </tr>\n",
       "    <tr>\n",
       "      <th>mean</th>\n",
       "      <td>2020-11-06 01:54:54.146441728</td>\n",
       "      <td>2021-03-11 01:14:17.227314944</td>\n",
       "      <td>8.567190e+04</td>\n",
       "      <td>2036.404351</td>\n",
       "      <td>5.042314e+04</td>\n",
       "    </tr>\n",
       "    <tr>\n",
       "      <th>min</th>\n",
       "      <td>2020-01-22 00:00:00</td>\n",
       "      <td>2020-01-22 17:00:00</td>\n",
       "      <td>0.000000e+00</td>\n",
       "      <td>0.000000</td>\n",
       "      <td>0.000000e+00</td>\n",
       "    </tr>\n",
       "    <tr>\n",
       "      <th>25%</th>\n",
       "      <td>2020-07-30 00:00:00</td>\n",
       "      <td>2021-04-02 15:13:53</td>\n",
       "      <td>1.042000e+03</td>\n",
       "      <td>13.000000</td>\n",
       "      <td>1.100000e+01</td>\n",
       "    </tr>\n",
       "    <tr>\n",
       "      <th>50%</th>\n",
       "      <td>2020-11-10 00:00:00</td>\n",
       "      <td>2021-04-02 15:13:53</td>\n",
       "      <td>1.037500e+04</td>\n",
       "      <td>192.000000</td>\n",
       "      <td>1.751000e+03</td>\n",
       "    </tr>\n",
       "    <tr>\n",
       "      <th>75%</th>\n",
       "      <td>2021-02-18 00:00:00</td>\n",
       "      <td>2021-04-02 15:13:53</td>\n",
       "      <td>5.075200e+04</td>\n",
       "      <td>1322.000000</td>\n",
       "      <td>2.027000e+04</td>\n",
       "    </tr>\n",
       "    <tr>\n",
       "      <th>max</th>\n",
       "      <td>2021-05-29 00:00:00</td>\n",
       "      <td>2021-05-30 04:20:55</td>\n",
       "      <td>5.863138e+06</td>\n",
       "      <td>112385.000000</td>\n",
       "      <td>6.399531e+06</td>\n",
       "    </tr>\n",
       "    <tr>\n",
       "      <th>std</th>\n",
       "      <td>NaN</td>\n",
       "      <td>NaN</td>\n",
       "      <td>2.775508e+05</td>\n",
       "      <td>6410.937689</td>\n",
       "      <td>2.015058e+05</td>\n",
       "    </tr>\n",
       "  </tbody>\n",
       "</table>\n",
       "</div>"
      ],
      "text/plain": [
       "                     ObservationDate                    Last_Update  \\\n",
       "count                         306429                         306429   \n",
       "mean   2020-11-06 01:54:54.146441728  2021-03-11 01:14:17.227314944   \n",
       "min              2020-01-22 00:00:00            2020-01-22 17:00:00   \n",
       "25%              2020-07-30 00:00:00            2021-04-02 15:13:53   \n",
       "50%              2020-11-10 00:00:00            2021-04-02 15:13:53   \n",
       "75%              2021-02-18 00:00:00            2021-04-02 15:13:53   \n",
       "max              2021-05-29 00:00:00            2021-05-30 04:20:55   \n",
       "std                              NaN                            NaN   \n",
       "\n",
       "          Confirmed         Deaths     Recovered  \n",
       "count  3.064290e+05  306429.000000  3.064290e+05  \n",
       "mean   8.567190e+04    2036.404351  5.042314e+04  \n",
       "min    0.000000e+00       0.000000  0.000000e+00  \n",
       "25%    1.042000e+03      13.000000  1.100000e+01  \n",
       "50%    1.037500e+04     192.000000  1.751000e+03  \n",
       "75%    5.075200e+04    1322.000000  2.027000e+04  \n",
       "max    5.863138e+06  112385.000000  6.399531e+06  \n",
       "std    2.775508e+05    6410.937689  2.015058e+05  "
      ]
     },
     "execution_count": 4,
     "metadata": {},
     "output_type": "execute_result"
    }
   ],
   "source": [
    "df.describe()"
   ]
  },
  {
   "cell_type": "code",
   "execution_count": 5,
   "id": "8aa7a1ca",
   "metadata": {},
   "outputs": [
    {
     "data": {
      "text/html": [
       "<div>\n",
       "<style scoped>\n",
       "    .dataframe tbody tr th:only-of-type {\n",
       "        vertical-align: middle;\n",
       "    }\n",
       "\n",
       "    .dataframe tbody tr th {\n",
       "        vertical-align: top;\n",
       "    }\n",
       "\n",
       "    .dataframe thead th {\n",
       "        text-align: right;\n",
       "    }\n",
       "</style>\n",
       "<table border=\"1\" class=\"dataframe\">\n",
       "  <thead>\n",
       "    <tr style=\"text-align: right;\">\n",
       "      <th></th>\n",
       "      <th>ObservationDate</th>\n",
       "      <th>Province/State</th>\n",
       "      <th>Country/Region</th>\n",
       "      <th>Last_Update</th>\n",
       "      <th>Confirmed</th>\n",
       "      <th>Deaths</th>\n",
       "      <th>Recovered</th>\n",
       "    </tr>\n",
       "    <tr>\n",
       "      <th>SNo</th>\n",
       "      <th></th>\n",
       "      <th></th>\n",
       "      <th></th>\n",
       "      <th></th>\n",
       "      <th></th>\n",
       "      <th></th>\n",
       "      <th></th>\n",
       "    </tr>\n",
       "  </thead>\n",
       "  <tbody>\n",
       "  </tbody>\n",
       "</table>\n",
       "</div>"
      ],
      "text/plain": [
       "Empty DataFrame\n",
       "Columns: [ObservationDate, Province/State, Country/Region, Last_Update, Confirmed, Deaths, Recovered]\n",
       "Index: []"
      ]
     },
     "execution_count": 5,
     "metadata": {},
     "output_type": "execute_result"
    }
   ],
   "source": [
    "# check of there is -ve values\n",
    "df[(df['Deaths'] < 0) | (df['Recovered'] < 0) | (df['Confirmed']< 0)]\n"
   ]
  },
  {
   "cell_type": "markdown",
   "id": "e8bfb602",
   "metadata": {},
   "source": [
    "### note: clip(lower=0)\n",
    "\n",
    "Parameters:\n",
    "\n",
    "lower → minimum allowed value. Anything smaller is replaced.\n",
    "\n",
    "upper → maximum allowed value. Anything bigger is replaced.\n",
    "\n",
    "axis → usually not needed. Defines along which axis clipping is applied (rows or columns).\n",
    "\n",
    "inplace → if True, modifies the DataFrame directly without creating a copy.\n",
    "\n",
    "🔹 Examples\n",
    "1. Basic Usage (Series)\n",
    "```python\n",
    "import pandas as pd\n",
    "s = pd.Series([-5, 0, 5, 10, 15])\n",
    "\n",
    "s.clip(lower=0, upper=10)\n",
    "```\n",
    "---\n",
    "\n",
    "```python\n",
    "Output:\n",
    "\n",
    "0     0\n",
    "1     0\n",
    "2     5\n",
    "3    10\n",
    "4    10\n",
    "dtype: int64\n",
    "```\n"
   ]
  },
  {
   "cell_type": "code",
   "execution_count": 6,
   "id": "b46b48ad",
   "metadata": {},
   "outputs": [],
   "source": [
    "# replace -ve values with 0\n",
    "df[['Confirmed','Deaths','Recovered']] = df[['Confirmed','Deaths','Recovered']].clip(lower=0)"
   ]
  },
  {
   "cell_type": "code",
   "execution_count": 7,
   "id": "c1299dfc",
   "metadata": {},
   "outputs": [
    {
     "data": {
      "text/html": [
       "<div>\n",
       "<style scoped>\n",
       "    .dataframe tbody tr th:only-of-type {\n",
       "        vertical-align: middle;\n",
       "    }\n",
       "\n",
       "    .dataframe tbody tr th {\n",
       "        vertical-align: top;\n",
       "    }\n",
       "\n",
       "    .dataframe thead th {\n",
       "        text-align: right;\n",
       "    }\n",
       "</style>\n",
       "<table border=\"1\" class=\"dataframe\">\n",
       "  <thead>\n",
       "    <tr style=\"text-align: right;\">\n",
       "      <th></th>\n",
       "      <th>ObservationDate</th>\n",
       "      <th>Province/State</th>\n",
       "      <th>Country/Region</th>\n",
       "      <th>Last_Update</th>\n",
       "      <th>Confirmed</th>\n",
       "      <th>Deaths</th>\n",
       "      <th>Recovered</th>\n",
       "    </tr>\n",
       "    <tr>\n",
       "      <th>SNo</th>\n",
       "      <th></th>\n",
       "      <th></th>\n",
       "      <th></th>\n",
       "      <th></th>\n",
       "      <th></th>\n",
       "      <th></th>\n",
       "      <th></th>\n",
       "    </tr>\n",
       "  </thead>\n",
       "  <tbody>\n",
       "  </tbody>\n",
       "</table>\n",
       "</div>"
      ],
      "text/plain": [
       "Empty DataFrame\n",
       "Columns: [ObservationDate, Province/State, Country/Region, Last_Update, Confirmed, Deaths, Recovered]\n",
       "Index: []"
      ]
     },
     "execution_count": 7,
     "metadata": {},
     "output_type": "execute_result"
    }
   ],
   "source": [
    "# check -ve values\n",
    "df[(df['Deaths'] < 0) | (df['Recovered'] < 0) | (df['Confirmed']< 0)]"
   ]
  },
  {
   "cell_type": "markdown",
   "id": "f6b1bc75",
   "metadata": {},
   "source": [
    "## **Global Overview**"
   ]
  },
  {
   "cell_type": "code",
   "execution_count": 8,
   "id": "fa740c1b",
   "metadata": {},
   "outputs": [],
   "source": [
    "df_OD_2021= df[df['ObservationDate'].dt.year == 2021]"
   ]
  },
  {
   "cell_type": "code",
   "execution_count": 9,
   "id": "bf7b43c2",
   "metadata": {},
   "outputs": [],
   "source": [
    "# ❌❌ wrong because we here adding comulative to each other  \n",
    "#df_OD_2021= df[df['ObservationDate'].dt.year == 2021] # take only the data after 2021\n",
    "#country_totals = df_OD_2021.groupby('Country/Region')['Confirmed'].sum().sort_values(ascending=False)\n",
    "#country_totals"
   ]
  },
  {
   "cell_type": "code",
   "execution_count": 10,
   "id": "39682369",
   "metadata": {},
   "outputs": [
    {
     "data": {
      "text/html": [
       "<div>\n",
       "<style scoped>\n",
       "    .dataframe tbody tr th:only-of-type {\n",
       "        vertical-align: middle;\n",
       "    }\n",
       "\n",
       "    .dataframe tbody tr th {\n",
       "        vertical-align: top;\n",
       "    }\n",
       "\n",
       "    .dataframe thead th {\n",
       "        text-align: right;\n",
       "    }\n",
       "</style>\n",
       "<table border=\"1\" class=\"dataframe\">\n",
       "  <thead>\n",
       "    <tr style=\"text-align: right;\">\n",
       "      <th></th>\n",
       "      <th>Country/Region</th>\n",
       "      <th>ObservationDate</th>\n",
       "      <th>Confirmed</th>\n",
       "    </tr>\n",
       "  </thead>\n",
       "  <tbody>\n",
       "    <tr>\n",
       "      <th>0</th>\n",
       "      <td>US</td>\n",
       "      <td>2021-05-29</td>\n",
       "      <td>33251939.0</td>\n",
       "    </tr>\n",
       "    <tr>\n",
       "      <th>1</th>\n",
       "      <td>India</td>\n",
       "      <td>2021-05-29</td>\n",
       "      <td>27894800.0</td>\n",
       "    </tr>\n",
       "    <tr>\n",
       "      <th>2</th>\n",
       "      <td>Brazil</td>\n",
       "      <td>2021-05-29</td>\n",
       "      <td>16471600.0</td>\n",
       "    </tr>\n",
       "    <tr>\n",
       "      <th>3</th>\n",
       "      <td>France</td>\n",
       "      <td>2021-05-29</td>\n",
       "      <td>5719877.0</td>\n",
       "    </tr>\n",
       "    <tr>\n",
       "      <th>4</th>\n",
       "      <td>Turkey</td>\n",
       "      <td>2021-05-29</td>\n",
       "      <td>5235978.0</td>\n",
       "    </tr>\n",
       "  </tbody>\n",
       "</table>\n",
       "</div>"
      ],
      "text/plain": [
       "  Country/Region ObservationDate   Confirmed\n",
       "0             US      2021-05-29  33251939.0\n",
       "1          India      2021-05-29  27894800.0\n",
       "2         Brazil      2021-05-29  16471600.0\n",
       "3         France      2021-05-29   5719877.0\n",
       "4         Turkey      2021-05-29   5235978.0"
      ]
     },
     "execution_count": 10,
     "metadata": {},
     "output_type": "execute_result"
    }
   ],
   "source": [
    "# Find the latest date (2021-05-29)\n",
    "latest_date = df['ObservationDate'].max() \n",
    "\n",
    "# Filter data for that date\n",
    "df_latest = df[df['ObservationDate'] == latest_date]\n",
    "\n",
    "# Sum confirmed cases across provinces for each country\n",
    "country_totals = df_latest.groupby(['Country/Region', 'ObservationDate'])['Confirmed'].sum()\n",
    "\n",
    "# Get top 5 countries\n",
    "df_top_5 = country_totals.sort_values(ascending=False).head()\n",
    "\n",
    "# to df again\n",
    "\n",
    "df_plot= df_top_5.reset_index()\n",
    "df_plot"
   ]
  },
  {
   "cell_type": "code",
   "execution_count": 11,
   "id": "2c24238f",
   "metadata": {},
   "outputs": [
    {
     "name": "stderr",
     "output_type": "stream",
     "text": [
      "C:\\Users\\go\\AppData\\Local\\Temp\\ipykernel_15572\\1545547572.py:1: FutureWarning: \n",
      "\n",
      "Passing `palette` without assigning `hue` is deprecated and will be removed in v0.14.0. Assign the `y` variable to `hue` and set `legend=False` for the same effect.\n",
      "\n",
      "  df_sns= sns.barplot(data=df_plot, x='Confirmed', y='Country/Region', palette='mako')\n"
     ]
    },
    {
     "data": {
      "image/png": "[encoded data removed]",
      "text/plain": [
       "<Figure size 640x480 with 1 Axes>"
      ]
     },
     "metadata": {},
     "output_type": "display_data"
    }
   ],
   "source": [
    "df_sns= sns.barplot(data=df_plot, x='Confirmed', y='Country/Region', palette='mako')\n",
    "\n",
    "for index, value in enumerate(df_plot['Confirmed']):\n",
    "    plt.text(value + 50000, index, f'{int(value):,}', va='center')\n",
    "\n",
    "plt.gca().xaxis.set_major_formatter(mtick.StrMethodFormatter('{x:,.0f}'))\n",
    "df_sns.set_xlabel('Number of Confirmed Cases')\n",
    "df_sns.set_ylabel('Countries')\n",
    "plt.title('Top 5 Countries by Confirmed COVID-19 in (2021-05-29)')\n",
    "plt.xticks(rotation=45)\n",
    "df_sns.set_xlim(0, 35000000)\n",
    "\n",
    "sns.despine()\n",
    "plt.tight_layout()\n",
    "plt.show()\n"
   ]
  }
 ],
 "metadata": {
  "kernelspec": {
   "display_name": "data_env",
   "language": "python",
   "name": "python3"
  },
  "language_info": {
   "codemirror_mode": {
    "name": "ipython",
    "version": 3
   },
   "file_extension": ".py",
   "mimetype": "text/x-python",
   "name": "python",
   "nbconvert_exporter": "python",
   "pygments_lexer": "ipython3",
   "version": "3.12.11"
  }
 },
 "nbformat": 4,
 "nbformat_minor": 5
}
